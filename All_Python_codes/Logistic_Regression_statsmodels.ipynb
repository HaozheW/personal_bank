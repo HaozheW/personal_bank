{
 "metadata": {
  "name": "",
  "signature": "sha256:8265419a5c906412dcd18e7358f2efe2dd819c842163c3bd859531894e09e24e"
 },
 "nbformat": 3,
 "nbformat_minor": 0,
 "worksheets": [
  {
   "cells": [
    {
     "cell_type": "code",
     "collapsed": false,
     "input": [
      "import collections\n",
      "import pandas as pd\n",
      "import numpy as np\n",
      "from datetime import datetime\n",
      "import os\n",
      "import statsmodels.api as sm\n",
      "import pylab as pl\n",
      "from patsy import dmatrices\n",
      "from sklearn.linear_model import LogisticRegression\n",
      "from sklearn.cross_validation import train_test_split\n",
      "from sklearn import metrics\n",
      "from sklearn.cross_validation import cross_val_score\n",
      "import patsy\n",
      "\n",
      "pd.set_option('display.max_columns', 100)#this allowed 80 columns to be shown in ipython notebook"
     ],
     "language": "python",
     "metadata": {},
     "outputs": [],
     "prompt_number": 1
    },
    {
     "cell_type": "code",
     "collapsed": false,
     "input": [
      "pathname = \"C:\\Users\\William\\Documents\\GitHub\\urban_project_Haozhe\""
     ],
     "language": "python",
     "metadata": {},
     "outputs": [],
     "prompt_number": 2
    },
    {
     "cell_type": "code",
     "collapsed": false,
     "input": [
      "# read data into pandas dataframe and convert column names to upper case\n",
      "def read_data(pname,fname):\n",
      "\tif fname.endswith('.csv'):\n",
      "\t\tdf = pd.DataFrame.from_csv(os.path.join(pname,fname),index_col=None)\n",
      "\t\tdf = df.rename(columns=lambda x: x.upper(),inplace=False)\n",
      "\t\treturn df\n",
      "\telif fname.endswith('.xlsx'):\n",
      "\t\tdf = pd.io.excel.read_excel(os.path.join(pname,fname),sheetname=0,\t\t\tindex_col=None)\n",
      "\t\tdf = df.rename(columns=lambda x: x.upper(),inplace=False)\n",
      "\t\treturn df\n",
      "    \n",
      "def merge_df(df,map,on):\n",
      "    df = pd.DataFrame.merge(df,map,how='left',on=on)\n",
      "    return df"
     ],
     "language": "python",
     "metadata": {},
     "outputs": [],
     "prompt_number": 3
    },
    {
     "cell_type": "code",
     "collapsed": false,
     "input": [
      "# read data into pandas dataframes\n",
      "audit = read_data(pathname,\"sample0723_HW.csv\")\n",
      "print \"total number of audits:\", len(audit)\n",
      "print \"Data read into dataframes\"\n",
      "audit = audit.rename(columns={'AUDIT CONTRACTOR': 'CONTRACTOR'})"
     ],
     "language": "python",
     "metadata": {},
     "outputs": [
      {
       "output_type": "stream",
       "stream": "stdout",
       "text": [
        "total number of audits: 39086\n",
        "Data read into dataframes\n"
       ]
      }
     ],
     "prompt_number": 10
    },
    {
     "cell_type": "code",
     "collapsed": false,
     "input": [
      "audit = audit[audit.MEDIAN_VALUE != 0]\n",
      "#audit = audit[audit.MEDIANHOUSEVALUE != '.']\n",
      "\n",
      "audit.sort(['MEDIAN_VALUE'])\n",
      "#print audit.head()\n",
      "audit.insert(0, 'CONVERT', audit['CLASS'])\n",
      "del audit['CLASS']\n",
      "audit.insert(1, 'SQFT_LN', np.log(audit['SQFT']))\n",
      "audit.insert(2, 'ANNUALPRIMARYUSAGE_LN', np.log(audit['ANNUALPRIMARYUSAGE']))\n",
      "audit.insert(3, 'MEDIANHOUSEVALUE_LN', np.log(audit['MEDIAN_VALUE']))\n",
      "audit.insert(4, 'ANNUALELECTRICUSAGE_LN', np.log(audit['ANNUALELECTRICUSAGE']))\n",
      "audit.insert(5, 'ENERGY_TOTAL_USE_INTENSITY', (audit['ANNUALELECTRICUSAGE']+audit['ANNUALPRIMARYUSAGE'])/audit['SQFT'])\n",
      "audit.insert(6, 'ENERGY_TOTAL_USE_INTENSITY_LN', np.log(audit['ENERGY_TOTAL_USE_INTENSITY']))\n",
      "\n",
      "\n",
      "audit = audit.dropna()"
     ],
     "language": "python",
     "metadata": {},
     "outputs": [],
     "prompt_number": 11
    },
    {
     "cell_type": "code",
     "collapsed": false,
     "input": [
      "count = audit.groupby(['CONTRACTOR']).count().sort('CONVERT')\n",
      "count.insert(0, 'COUNT', count['CONVERT'])\n",
      "count = count['COUNT']\n",
      "count = pd.DataFrame(count)\n",
      "count = count[count.COUNT > 25]\n",
      "#rcParams['figure.figsize'] = 40, 24\n",
      "#count.plot(kind = 'bar')\n",
      "\n",
      "count.loc[count['COUNT']<6000, 'CONTRACTOR_CLASS'] = 10\n",
      "count.loc[count['COUNT']<4026, 'CONTRACTOR_CLASS'] = 9\n",
      "count.loc[count['COUNT']<895, 'CONTRACTOR_CLASS'] = 8\n",
      "count.loc[count['COUNT']<545, 'CONTRACTOR_CLASS'] = 6\n",
      "count.loc[count['COUNT']<370, 'CONTRACTOR_CLASS'] = 6\n",
      "count.loc[count['COUNT']<249, 'CONTRACTOR_CLASS'] = 5\n",
      "count.loc[count['COUNT']<180, 'CONTRACTOR_CLASS'] = 4\n",
      "count.loc[count['COUNT']<102, 'CONTRACTOR_CLASS'] = 3\n",
      "count.loc[count['COUNT']<60, 'CONTRACTOR_CLASS'] = 2\n",
      "count.loc[count['COUNT']<40, 'CONTRACTOR_CLASS'] = 1\n",
      "\n",
      "count.reset_index(level=0, inplace=True)\n",
      "\n",
      "count.to_csv('C:\\Users\\William\\Documents\\GitHub\\urban_project_Haozhe\\contractor_count.csv', index = False)"
     ],
     "language": "python",
     "metadata": {},
     "outputs": [],
     "prompt_number": 12
    },
    {
     "cell_type": "code",
     "collapsed": false,
     "input": [
      "merged_audit = merge_df(audit, count, 'CONTRACTOR')\n",
      "del merged_audit['COUNT']\n",
      "merged_audit = merged_audit.dropna(subset=['CONTRACTOR_CLASS'], how = 'any')\n",
      "\n",
      "merged_audit['CONTRACTOR']\n",
      "#del merged_audit['UNNAMED: 0']\n",
      "merged_audit.to_csv('C:\\Users\\William\\Documents\\GitHub\\urban_project_Haozhe\\sample_HW_contractor_count_SM.csv', index = False)"
     ],
     "language": "python",
     "metadata": {},
     "outputs": [],
     "prompt_number": 18
    },
    {
     "cell_type": "code",
     "collapsed": false,
     "input": [
      "#yhat process step(manual dummify attributes)\n",
      "#get dummies for categorical attributes\n",
      "\n",
      "dummy_homeType = pd.get_dummies(merged_audit['HOMETYPE'], prefix='HomeType')\n",
      "dummy_income = pd.get_dummies(merged_audit['INCOME'], prefix='Income')\n",
      "dummy_primaryFuel = pd.get_dummies(merged_audit['PRIMARYFUELTYPE'], prefix='Fuel')\n",
      "dummy_region = pd.get_dummies(merged_audit['REGION'], prefix='Region')\n",
      "dummy_central = pd.get_dummies(merged_audit['CENTRALAIR'], prefix='CentralAir')\n",
      "dummy_owner = pd.get_dummies(merged_audit['OWNER'], prefix='Owner')\n",
      "dummy_contractor = pd.get_dummies(merged_audit['CONTRACTOR'], prefix='Contractor')#this one need to be taken care of\n",
      "# manually add the intercept\n",
      "audit['intercept'] = 1.0\n"
     ],
     "language": "python",
     "metadata": {},
     "outputs": [],
     "prompt_number": 19
    },
    {
     "cell_type": "code",
     "collapsed": false,
     "input": [
      "\n",
      "cols_to_keep = ['CONVERT', 'SQFT_LN', 'ANNUALPRIMARYUSAGE_LN', 'MEDIANHOUSEVALUE_LN']#the normalized the new attribute is not included\n",
      "pieces = [dummy_homeType[0:-1], dummy_income[0:-1], dummy_region[1:], dummy_primaryFuel[0:], dummy_contractor[0:], dummy_central[0:], dummy_owner[0:]]# one column was not inclded in region\n",
      "data = merged_audit[cols_to_keep].join(pieces)\n",
      "data = data.dropna()\n"
     ],
     "language": "python",
     "metadata": {},
     "outputs": [],
     "prompt_number": 20
    },
    {
     "cell_type": "code",
     "collapsed": false,
     "input": [
      "\n",
      "train_cols = data.columns[1:]\n",
      "data = data.dropna()\n",
      "#print data.head()\n",
      "data = data.dropna(subset=['CONVERT'], how='all')\n"
     ],
     "language": "python",
     "metadata": {},
     "outputs": [],
     "prompt_number": 21
    },
    {
     "cell_type": "code",
     "collapsed": false,
     "input": [
      "logit = sm.Logit(data['CONVERT'], data[train_cols])\n",
      "#data.head()"
     ],
     "language": "python",
     "metadata": {},
     "outputs": [],
     "prompt_number": 22
    },
    {
     "cell_type": "code",
     "collapsed": false,
     "input": [
      "# fit the model\n",
      "#data\n",
      "result = logit.fit().summary()"
     ],
     "language": "python",
     "metadata": {},
     "outputs": [
      {
       "ename": "LinAlgError",
       "evalue": "Singular matrix",
       "output_type": "pyerr",
       "traceback": [
        "\u001b[1;31m---------------------------------------------------------------------------\u001b[0m\n\u001b[1;31mLinAlgError\u001b[0m                               Traceback (most recent call last)",
        "\u001b[1;32m<ipython-input-23-0290826f8345>\u001b[0m in \u001b[0;36m<module>\u001b[1;34m()\u001b[0m\n\u001b[0;32m      1\u001b[0m \u001b[1;31m# fit the model\u001b[0m\u001b[1;33m\u001b[0m\u001b[1;33m\u001b[0m\u001b[0m\n\u001b[0;32m      2\u001b[0m \u001b[1;31m#data\u001b[0m\u001b[1;33m\u001b[0m\u001b[1;33m\u001b[0m\u001b[0m\n\u001b[1;32m----> 3\u001b[1;33m \u001b[0mresult\u001b[0m \u001b[1;33m=\u001b[0m \u001b[0mlogit\u001b[0m\u001b[1;33m.\u001b[0m\u001b[0mfit\u001b[0m\u001b[1;33m(\u001b[0m\u001b[1;33m)\u001b[0m\u001b[1;33m.\u001b[0m\u001b[0msummary\u001b[0m\u001b[1;33m(\u001b[0m\u001b[1;33m)\u001b[0m\u001b[1;33m\u001b[0m\u001b[0m\n\u001b[0m",
        "\u001b[1;32mC:\\Users\\William\\Anaconda\\lib\\site-packages\\statsmodels\\discrete\\discrete_model.pyc\u001b[0m in \u001b[0;36mfit\u001b[1;34m(self, start_params, method, maxiter, full_output, disp, callback, **kwargs)\u001b[0m\n\u001b[0;32m   1184\u001b[0m         bnryfit = super(Logit, self).fit(start_params=start_params,\n\u001b[0;32m   1185\u001b[0m                 \u001b[0mmethod\u001b[0m\u001b[1;33m=\u001b[0m\u001b[0mmethod\u001b[0m\u001b[1;33m,\u001b[0m \u001b[0mmaxiter\u001b[0m\u001b[1;33m=\u001b[0m\u001b[0mmaxiter\u001b[0m\u001b[1;33m,\u001b[0m \u001b[0mfull_output\u001b[0m\u001b[1;33m=\u001b[0m\u001b[0mfull_output\u001b[0m\u001b[1;33m,\u001b[0m\u001b[1;33m\u001b[0m\u001b[0m\n\u001b[1;32m-> 1186\u001b[1;33m                 disp=disp, callback=callback, **kwargs)\n\u001b[0m\u001b[0;32m   1187\u001b[0m         \u001b[0mdiscretefit\u001b[0m \u001b[1;33m=\u001b[0m \u001b[0mLogitResults\u001b[0m\u001b[1;33m(\u001b[0m\u001b[0mself\u001b[0m\u001b[1;33m,\u001b[0m \u001b[0mbnryfit\u001b[0m\u001b[1;33m)\u001b[0m\u001b[1;33m\u001b[0m\u001b[0m\n\u001b[0;32m   1188\u001b[0m         \u001b[1;32mreturn\u001b[0m \u001b[0mBinaryResultsWrapper\u001b[0m\u001b[1;33m(\u001b[0m\u001b[0mdiscretefit\u001b[0m\u001b[1;33m)\u001b[0m\u001b[1;33m\u001b[0m\u001b[0m\n",
        "\u001b[1;32mC:\\Users\\William\\Anaconda\\lib\\site-packages\\statsmodels\\discrete\\discrete_model.pyc\u001b[0m in \u001b[0;36mfit\u001b[1;34m(self, start_params, method, maxiter, full_output, disp, callback, **kwargs)\u001b[0m\n\u001b[0;32m    162\u001b[0m         mlefit = super(DiscreteModel, self).fit(start_params=start_params,\n\u001b[0;32m    163\u001b[0m                 \u001b[0mmethod\u001b[0m\u001b[1;33m=\u001b[0m\u001b[0mmethod\u001b[0m\u001b[1;33m,\u001b[0m \u001b[0mmaxiter\u001b[0m\u001b[1;33m=\u001b[0m\u001b[0mmaxiter\u001b[0m\u001b[1;33m,\u001b[0m \u001b[0mfull_output\u001b[0m\u001b[1;33m=\u001b[0m\u001b[0mfull_output\u001b[0m\u001b[1;33m,\u001b[0m\u001b[1;33m\u001b[0m\u001b[0m\n\u001b[1;32m--> 164\u001b[1;33m                 disp=disp, callback=callback, **kwargs)\n\u001b[0m\u001b[0;32m    165\u001b[0m         \u001b[1;32mreturn\u001b[0m \u001b[0mmlefit\u001b[0m \u001b[1;31m# up to subclasses to wrap results\u001b[0m\u001b[1;33m\u001b[0m\u001b[0m\n\u001b[0;32m    166\u001b[0m \u001b[1;33m\u001b[0m\u001b[0m\n",
        "\u001b[1;32mC:\\Users\\William\\Anaconda\\lib\\site-packages\\statsmodels\\base\\model.pyc\u001b[0m in \u001b[0;36mfit\u001b[1;34m(self, start_params, method, maxiter, full_output, disp, fargs, callback, retall, **kwargs)\u001b[0m\n\u001b[0;32m    355\u001b[0m                              \u001b[0mdisp\u001b[0m\u001b[1;33m=\u001b[0m\u001b[0mdisp\u001b[0m\u001b[1;33m,\u001b[0m \u001b[0mmaxiter\u001b[0m\u001b[1;33m=\u001b[0m\u001b[0mmaxiter\u001b[0m\u001b[1;33m,\u001b[0m \u001b[0mcallback\u001b[0m\u001b[1;33m=\u001b[0m\u001b[0mcallback\u001b[0m\u001b[1;33m,\u001b[0m\u001b[1;33m\u001b[0m\u001b[0m\n\u001b[0;32m    356\u001b[0m                              \u001b[0mretall\u001b[0m\u001b[1;33m=\u001b[0m\u001b[0mretall\u001b[0m\u001b[1;33m,\u001b[0m \u001b[0mfull_output\u001b[0m\u001b[1;33m=\u001b[0m\u001b[0mfull_output\u001b[0m\u001b[1;33m,\u001b[0m\u001b[1;33m\u001b[0m\u001b[0m\n\u001b[1;32m--> 357\u001b[1;33m                              hess=hess)\n\u001b[0m\u001b[0;32m    358\u001b[0m \u001b[1;33m\u001b[0m\u001b[0m\n\u001b[0;32m    359\u001b[0m         \u001b[1;32mif\u001b[0m \u001b[1;32mnot\u001b[0m \u001b[0mfull_output\u001b[0m\u001b[1;33m:\u001b[0m \u001b[1;31m# xopt should be None and retvals is argmin\u001b[0m\u001b[1;33m\u001b[0m\u001b[0m\n",
        "\u001b[1;32mC:\\Users\\William\\Anaconda\\lib\\site-packages\\statsmodels\\base\\model.pyc\u001b[0m in \u001b[0;36m_fit_mle_newton\u001b[1;34m(f, score, start_params, fargs, kwargs, disp, maxiter, callback, retall, full_output, hess)\u001b[0m\n\u001b[0;32m    403\u001b[0m         \u001b[0mH\u001b[0m \u001b[1;33m=\u001b[0m \u001b[0mhess\u001b[0m\u001b[1;33m(\u001b[0m\u001b[0mnewparams\u001b[0m\u001b[1;33m)\u001b[0m\u001b[1;33m\u001b[0m\u001b[0m\n\u001b[0;32m    404\u001b[0m         \u001b[0moldparams\u001b[0m \u001b[1;33m=\u001b[0m \u001b[0mnewparams\u001b[0m\u001b[1;33m\u001b[0m\u001b[0m\n\u001b[1;32m--> 405\u001b[1;33m         newparams = oldparams - np.dot(np.linalg.inv(H),\n\u001b[0m\u001b[0;32m    406\u001b[0m                 score(oldparams))\n\u001b[0;32m    407\u001b[0m         \u001b[1;32mif\u001b[0m \u001b[0mretall\u001b[0m\u001b[1;33m:\u001b[0m\u001b[1;33m\u001b[0m\u001b[0m\n",
        "\u001b[1;32mC:\\Users\\William\\Anaconda\\lib\\site-packages\\numpy\\linalg\\linalg.pyc\u001b[0m in \u001b[0;36minv\u001b[1;34m(a)\u001b[0m\n\u001b[0;32m    518\u001b[0m     \u001b[0msignature\u001b[0m \u001b[1;33m=\u001b[0m \u001b[1;34m'D->D'\u001b[0m \u001b[1;32mif\u001b[0m \u001b[0misComplexType\u001b[0m\u001b[1;33m(\u001b[0m\u001b[0mt\u001b[0m\u001b[1;33m)\u001b[0m \u001b[1;32melse\u001b[0m \u001b[1;34m'd->d'\u001b[0m\u001b[1;33m\u001b[0m\u001b[0m\n\u001b[0;32m    519\u001b[0m     \u001b[0mextobj\u001b[0m \u001b[1;33m=\u001b[0m \u001b[0mget_linalg_error_extobj\u001b[0m\u001b[1;33m(\u001b[0m\u001b[0m_raise_linalgerror_singular\u001b[0m\u001b[1;33m)\u001b[0m\u001b[1;33m\u001b[0m\u001b[0m\n\u001b[1;32m--> 520\u001b[1;33m     \u001b[0mainv\u001b[0m \u001b[1;33m=\u001b[0m \u001b[0m_umath_linalg\u001b[0m\u001b[1;33m.\u001b[0m\u001b[0minv\u001b[0m\u001b[1;33m(\u001b[0m\u001b[0ma\u001b[0m\u001b[1;33m,\u001b[0m \u001b[0msignature\u001b[0m\u001b[1;33m=\u001b[0m\u001b[0msignature\u001b[0m\u001b[1;33m,\u001b[0m \u001b[0mextobj\u001b[0m\u001b[1;33m=\u001b[0m\u001b[0mextobj\u001b[0m\u001b[1;33m)\u001b[0m\u001b[1;33m\u001b[0m\u001b[0m\n\u001b[0m\u001b[0;32m    521\u001b[0m     \u001b[1;32mreturn\u001b[0m \u001b[0mwrap\u001b[0m\u001b[1;33m(\u001b[0m\u001b[0mainv\u001b[0m\u001b[1;33m.\u001b[0m\u001b[0mastype\u001b[0m\u001b[1;33m(\u001b[0m\u001b[0mresult_t\u001b[0m\u001b[1;33m)\u001b[0m\u001b[1;33m)\u001b[0m\u001b[1;33m\u001b[0m\u001b[0m\n\u001b[0;32m    522\u001b[0m \u001b[1;33m\u001b[0m\u001b[0m\n",
        "\u001b[1;32mC:\\Users\\William\\Anaconda\\lib\\site-packages\\numpy\\linalg\\linalg.pyc\u001b[0m in \u001b[0;36m_raise_linalgerror_singular\u001b[1;34m(err, flag)\u001b[0m\n\u001b[0;32m     88\u001b[0m \u001b[1;33m\u001b[0m\u001b[0m\n\u001b[0;32m     89\u001b[0m \u001b[1;32mdef\u001b[0m \u001b[0m_raise_linalgerror_singular\u001b[0m\u001b[1;33m(\u001b[0m\u001b[0merr\u001b[0m\u001b[1;33m,\u001b[0m \u001b[0mflag\u001b[0m\u001b[1;33m)\u001b[0m\u001b[1;33m:\u001b[0m\u001b[1;33m\u001b[0m\u001b[0m\n\u001b[1;32m---> 90\u001b[1;33m     \u001b[1;32mraise\u001b[0m \u001b[0mLinAlgError\u001b[0m\u001b[1;33m(\u001b[0m\u001b[1;34m\"Singular matrix\"\u001b[0m\u001b[1;33m)\u001b[0m\u001b[1;33m\u001b[0m\u001b[0m\n\u001b[0m\u001b[0;32m     91\u001b[0m \u001b[1;33m\u001b[0m\u001b[0m\n\u001b[0;32m     92\u001b[0m \u001b[1;32mdef\u001b[0m \u001b[0m_raise_linalgerror_nonposdef\u001b[0m\u001b[1;33m(\u001b[0m\u001b[0merr\u001b[0m\u001b[1;33m,\u001b[0m \u001b[0mflag\u001b[0m\u001b[1;33m)\u001b[0m\u001b[1;33m:\u001b[0m\u001b[1;33m\u001b[0m\u001b[0m\n",
        "\u001b[1;31mLinAlgError\u001b[0m: Singular matrix"
       ]
      }
     ],
     "prompt_number": 23
    },
    {
     "cell_type": "code",
     "collapsed": false,
     "input": [],
     "language": "python",
     "metadata": {},
     "outputs": []
    }
   ],
   "metadata": {}
  }
 ]
}