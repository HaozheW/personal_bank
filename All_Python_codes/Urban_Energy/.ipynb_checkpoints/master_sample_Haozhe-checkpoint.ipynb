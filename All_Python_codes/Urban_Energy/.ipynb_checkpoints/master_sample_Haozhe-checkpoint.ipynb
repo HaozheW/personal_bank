{
 "metadata": {
  "name": "",
  "signature": "sha256:0ec1df2916d3bce509b9a3e4b344f9455734cc9db5259cdfdd4cef374e355034"
 },
 "nbformat": 3,
 "nbformat_minor": 0,
 "worksheets": [
  {
   "cells": [
    {
     "cell_type": "code",
     "collapsed": false,
     "input": [
      "import os\n",
      "import sys\n",
      "import pandas as pd\n",
      "import numpy as np\n",
      "pd.set_option('display.max_columns', 100)#this allowed 80 columns to be shown in ipython notebook"
     ],
     "language": "python",
     "metadata": {},
     "outputs": [],
     "prompt_number": 1
    },
    {
     "cell_type": "code",
     "collapsed": false,
     "input": [
      "pathname = 'C:\\Users\\William\\Documents\\GitHub\\urban_project_Haozhe'"
     ],
     "language": "python",
     "metadata": {},
     "outputs": [],
     "prompt_number": 2
    },
    {
     "cell_type": "code",
     "collapsed": false,
     "input": [
      "# read data into pandas dataframe and convert column names to upper case\n",
      "def read_data(pname,fname):\n",
      "\tif fname.endswith('.csv'):\n",
      "\t\tdf = pd.DataFrame.from_csv(os.path.join(pname,fname),index_col=None)\n",
      "\t\tdf = df.rename(columns=lambda x: x.upper(),inplace=False)\n",
      "\t\treturn df\n",
      "\telif fname.endswith('.xlsx'):\n",
      "\t\tdf = pd.io.excel.read_excel(os.path.join(pname,fname),sheetname=0,\t\t\tindex_col=None)\n",
      "\t\tdf = df.rename(columns=lambda x: x.upper(),inplace=False)\n",
      "\t\treturn df\n",
      "    \n",
      "def merge_df(df,map,on):\n",
      "    df = pd.DataFrame.merge(df,map,how='left',on=on)\n",
      "    return df"
     ],
     "language": "python",
     "metadata": {},
     "outputs": [],
     "prompt_number": 3
    },
    {
     "cell_type": "code",
     "collapsed": false,
     "input": [
      "# Read csv into pandas dataframe\n",
      "df = read_data(pathname, 'audit_0723_3joins.csv')\n",
      "\n",
      "# Formalize null values\n",
      "df = df.replace('nan',np.nan)\n",
      "#print df.head()\n",
      "\n",
      "print \"\\n\", \"Row 63083 removed. Couldn't find the city or the zip code anywhere in New York!\"\n",
      "df = df.reindex()\n",
      "\n",
      "region_table = read_data(pathname, 'Climate_Zone_NYS.csv')\n",
      "#print region_table\n",
      "\n",
      "df = merge_df(df, region_table, 'COUNTY')\n",
      "df.columns"
     ],
     "language": "python",
     "metadata": {},
     "outputs": [
      {
       "output_type": "stream",
       "stream": "stdout",
       "text": [
        "\n",
        "Row 63083 removed. Couldn't find the city or the zip code anywhere in New York!\n"
       ]
      },
      {
       "metadata": {},
       "output_type": "pyout",
       "prompt_number": 4,
       "text": [
        "Index([u'RESNUM', u'DESCRIPTIO', u'ADDR1', u'CITY', u'COUNTY', u'HOMETYPE', u'SQFT', u'LEADS', u'FINANCING', u'INCOME', u'ELECTRICUT', u'PRIMARYFUELPROVIDER', u'PRIMARYFUELTYPE', u'OTHERFUELP', u'ANNUALELECTRICUSAGE', u'ELECTRICESTIMATED', u'ELECTRICST', u'ELECTRICEN', u'ANNUALPRIMARYUSAGE', u'PRIMARYESTIMATED', u'PRIMARYSTA', u'PRIMARYEND', u'ANNUALOTHE', u'OTHERESTIM', u'OTHERSTART', u'OTHERENDDT', u'THERMOSTAT', u'CENTRALAIR', u'OWNER', u'AUDIT CONTRACTOR', u'AGGREGATIO', u'AGGREGAT_1', u'LONGITUDE', u'LATITUDE', u'PROJECTID', u'MEDIAN_VALUE', u'CLASS', u'MEDIAN_HOUSEAGE', u'MEIDAN_HH_INCOME', u'ZONE'], dtype='object')"
       ]
      }
     ],
     "prompt_number": 4
    },
    {
     "cell_type": "code",
     "collapsed": false,
     "input": [
      "# Select attributes of interest\n",
      "df = df[['RESNUM',\n",
      "         'COUNTY',\n",
      "         'HOMETYPE',\n",
      "         'SQFT',\n",
      "         'INCOME',\n",
      "         'PRIMARYFUELTYPE',\n",
      "         'ANNUALELECTRICUSAGE',\n",
      "         'ANNUALPRIMARYUSAGE',\n",
      "         'CENTRALAIR',\n",
      "         'OWNER',\n",
      "         'AUDIT CONTRACTOR',\n",
      "         'CLASS',\n",
      "         'ELECTRICESTIMATED',\n",
      "         'PRIMARYESTIMATED',\n",
      "         'MEDIAN_VALUE',\n",
      "         'MEDIAN_HOUSEAGE',\n",
      "         'MEIDAN_HH_INCOME',\n",
      "         'ZONE']]\n",
      "del df['COUNTY']\n",
      "# Create Region COUNTY (arbitrarily matches the COUNTY column.)\n",
      "#df['Region'] = df['COUNTY']\n",
      "print \"\\n\", \"Attributes selected from the dataframe. Region column added.\"\n",
      "\n",
      "# Assign region to each observation\n",
      "#df = map_to_region(df,14)\n",
      "#print \"\\n\", \"Counties successfully mapped to regions.\"\n",
      "# Drop COUNTY column as we don't need it anymore\n",
      "#df = df.drop('COUNTY',axis=1)\n",
      "\n",
      "# Drop observations where electric, fuel is estimated\n",
      "df = df[df['ELECTRICESTIMATED'] != 'Yes']\n",
      "df = df[df['PRIMARYESTIMATED'] != 'Yes']\n",
      "\n",
      "#df = df[df['MEDIAN_VALUE'] != '.']\n",
      "# Drop these two columns as we don't need them anymore\n",
      "df = df.drop('ELECTRICESTIMATED',axis=1)\n",
      "df = df.drop('PRIMARYESTIMATED',axis=1)\n",
      "\n",
      "# Drop observations where INCOME = HEAP Eligible *\n",
      "df = df[df['INCOME'] != 'HEAP Eligible *']\n",
      "print \"\\n\", \"HEAP Eligible households removed from the sample.\"\n",
      "\n",
      "df = df[df['ANNUALPRIMARYUSAGE'] != 0 ]\n",
      "df = df[df['ANNUALELECTRICUSAGE'] != 0 ]\n",
      "df = df[df['MEDIAN_HOUSEAGE'] != 0 ]\n",
      "df = df[df['MEIDAN_HH_INCOME'] != 0 ]\n",
      "\n",
      "\n",
      "\n",
      "#df = df[df['MEDIAN_VALUE'] != '0' ]\n",
      "df = df[df['MEDIAN_VALUE'] != 0 ]\n",
      "df = df[df['SQFT'] >= 500]\n",
      "df = df[df['SQFT'] <= 5000]\n",
      "\n",
      "# Drop observations with null values\n",
      "df = df.dropna()\n",
      "print \"\\n\", \"Null observations removed from the sample.\"\n",
      "\n"
     ],
     "language": "python",
     "metadata": {},
     "outputs": [
      {
       "output_type": "stream",
       "stream": "stdout",
       "text": [
        "\n",
        "Attributes selected from the dataframe. Region column added.\n",
        "\n"
       ]
      },
      {
       "output_type": "stream",
       "stream": "stdout",
       "text": [
        "HEAP Eligible households removed from the sample.\n",
        "\n"
       ]
      },
      {
       "output_type": "stream",
       "stream": "stdout",
       "text": [
        "Null observations removed from the sample.\n"
       ]
      }
     ],
     "prompt_number": 5
    },
    {
     "cell_type": "code",
     "collapsed": false,
     "input": [
      "sample = df.to_csv(\"C:\\Users\\William\\Documents\\GitHub\\urban_project_Haozhe\\sample0723_HW_3joins.csv\", index = False)\n",
      "print \"\\n\", \"Sample written to csv. Process complete!\""
     ],
     "language": "python",
     "metadata": {},
     "outputs": [
      {
       "output_type": "stream",
       "stream": "stdout",
       "text": [
        "\n",
        "Sample written to csv. Process complete!\n"
       ]
      }
     ],
     "prompt_number": 6
    },
    {
     "cell_type": "code",
     "collapsed": false,
     "input": [],
     "language": "python",
     "metadata": {},
     "outputs": [],
     "prompt_number": 12
    },
    {
     "cell_type": "code",
     "collapsed": false,
     "input": [],
     "language": "python",
     "metadata": {},
     "outputs": []
    }
   ],
   "metadata": {}
  }
 ]
}